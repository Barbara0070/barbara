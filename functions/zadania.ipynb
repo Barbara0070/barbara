{
 "cells": [
  {
   "cell_type": "markdown",
   "metadata": {},
   "source": []
  },
  {
   "cell_type": "markdown",
   "metadata": {},
   "source": [
    "## Zad 1\n",
    "\n",
    "\n",
    "\n",
    "Napisz funkcję (lub funkcje), które zwrócą maksymalną spośród 3 liczb.\n",
    "\n",
    "W rozwiązaniu skorzystaj tylko z możliwośći definiowania funkcji i używania w nich operatorów porównania"
   ]
  },
  {
   "cell_type": "code",
   "execution_count": null,
   "metadata": {},
   "outputs": [],
   "source": [
    "## Zad 2\n",
    "\n",
    "\n",
    "\n",
    "Napisz funkcję, która:\n",
    "\n",
    "1. Jeśli jej argument będzie listą, tuplą bądź zbiroem, zwróci sumę jej elementów\n",
    "\n",
    "2. Jeśli jej argument będzie słownikiem, zwróci sumę wartości\n",
    "\n",
    "\n",
    "\n",
    "W obu przypadkach ignoruj napisy - o ile napisy nie reprezentują liczb\n"
   ]
  },
  {
   "cell_type": "markdown",
   "metadata": {},
   "source": [
    "## Zad 3\n",
    "\n",
    "\n",
    "\n",
    "Napisz funkcję, która sprawdzi czy podany napis jest palindromem"
   ]
  },
  {
   "cell_type": "code",
   "execution_count": 3,
   "metadata": {},
   "outputs": [],
   "source": [
    "def czy_palindrom(napis):\n",
    "    napis = napis.lower().split()\n",
    "    napis=\"\".join(napis)\n",
    "    lewy = 0\n",
    "    prawy = len(napis) -1\n",
    "    while prawy>=lewy:\n",
    "        if not napis[lewy] == napis[prawy]:\n",
    "            return False\n",
    "        lewy+=1\n",
    "        prawy-=1\n",
    "    return True\n",
    "    \n",
    "    \n",
    "    "
   ]
  },
  {
   "cell_type": "code",
   "execution_count": 8,
   "metadata": {},
   "outputs": [],
   "source": [
    "def czy_palindrom(napis):\n",
    "    napis = napis.lower().split()\n",
    "    napis=\"\".join(napis)\n",
    "    return napis == napis[::-1]"
   ]
  },
  {
   "cell_type": "code",
   "execution_count": 9,
   "metadata": {},
   "outputs": [],
   "source": [
    "assert czy_palindrom(\"Kobyła ma mały bok\") == True\n",
    "assert czy_palindrom(\"ala ma kota\") == False"
   ]
  },
  {
   "cell_type": "code",
   "execution_count": null,
   "metadata": {},
   "outputs": [],
   "source": []
  },
  {
   "cell_type": "markdown",
   "metadata": {},
   "source": [
    "## zad 4\n",
    "\n",
    "\n",
    "\n",
    "Napisz funkcję, które wypisze n pierwszych wierszy trójkąta Pascala"
   ]
  },
  {
   "cell_type": "code",
   "execution_count": null,
   "metadata": {},
   "outputs": [],
   "source": [
    "def pascal(n):\n",
    "    i=1\n",
    "    while i <=n:\n",
    "        print i"
   ]
  },
  {
   "cell_type": "markdown",
   "metadata": {},
   "source": [
    "## Zad 5\n",
    "\n",
    "\n",
    "\n",
    "Napisz funkcję, która sprawdzi, czy napis jest pangramem."
   ]
  },
  {
   "cell_type": "code",
   "execution_count": 17,
   "metadata": {},
   "outputs": [],
   "source": [
    "import string\n",
    "string.ascii_lowercase\n",
    "\n",
    "def czy_panagram(napis, alfabet=string.ascii_lowercase):\n",
    "    napis = \"\".join(napis.lower().split())\n",
    "    return len(set(napis))==len(alfabet)"
   ]
  },
  {
   "cell_type": "code",
   "execution_count": 18,
   "metadata": {},
   "outputs": [
    {
     "ename": "AssertionError",
     "evalue": "",
     "traceback": [
      "\u001b[1;31m---------------------------------------------------------------------------\u001b[0m",
      "\u001b[1;31mAssertionError\u001b[0m                            Traceback (most recent call last)",
      "\u001b[1;32m<ipython-input-18-bb38427c5553>\u001b[0m in \u001b[0;36m<module>\u001b[1;34m\u001b[0m\n\u001b[1;32m----> 1\u001b[1;33m \u001b[1;32massert\u001b[0m \u001b[0mczy_panagram\u001b[0m\u001b[1;33m(\u001b[0m\u001b[1;34m\"Pchnąć w tę łódź jeża lub ośm skrzyń fig\"\u001b[0m\u001b[1;33m)\u001b[0m\u001b[1;33m==\u001b[0m\u001b[1;32mTrue\u001b[0m\u001b[1;33m\u001b[0m\u001b[0m\n\u001b[0m",
      "\u001b[1;31mAssertionError\u001b[0m: "
     ],
     "output_type": "error"
    }
   ],
   "source": [
    "assert czy_panagram(\"Pchnąć w tę łódź jeża lub ośm skrzyń fig\")==True\n"
   ]
  },
  {
   "cell_type": "markdown",
   "metadata": {},
   "source": [
    "## Zad 6\n",
    "\n",
    "\n",
    "\n",
    "Napisz funkcję, które sprawdzi, czy zadana liczba jest doskonała"
   ]
  },
  {
   "cell_type": "code",
   "execution_count": 21,
   "metadata": {},
   "outputs": [],
   "source": [
    "def doskonala(x):\n",
    "    suma=0\n",
    "    for i in range(1,x):\n",
    "        if x%i==0:\n",
    "            suma+=i\n",
    "    return suma == x\n",
    "        "
   ]
  },
  {
   "cell_type": "code",
   "execution_count": 22,
   "metadata": {},
   "outputs": [],
   "source": [
    "assert doskonala(6)==True"
   ]
  },
  {
   "cell_type": "markdown",
   "metadata": {},
   "source": [
    "## Zad 7\n",
    "\n",
    "\n",
    "\n",
    "Napisz dekorator, który będzie printował w konsoli czas wykonania dekorowanej funkcji."
   ]
  },
  {
   "cell_type": "code",
   "execution_count": null,
   "metadata": {},
   "outputs": [],
   "source": [
    "import time\n",
    "def czas_wykonania(dekorowana_funkcja):\n",
    "    def wrapper(*arg,**kwargs):\n",
    "        start=time.time()\n",
    "        dekorowana_funkcja(*arg,**kwargs)\n",
    "        stop=time.time()\n",
    "        print(f\"czs wykoniania funkcji{dekorowana_funkcja.__name__} wynosi {stop-start}\")\n",
    "    return wrapper\n",
    "        "
   ]
  },
  {
   "cell_type": "code",
   "execution_count": null,
   "metadata": {},
   "outputs": [],
   "source": [
    "doskonala=czas_wykonania(doskonala)"
   ]
  },
  {
   "cell_type": "code",
   "execution_count": null,
   "metadata": {},
   "outputs": [],
   "source": [
    "doskonala(6)"
   ]
  },
  {
   "cell_type": "code",
   "execution_count": null,
   "metadata": {},
   "outputs": [],
   "source": []
  },
  {
   "cell_type": "code",
   "execution_count": null,
   "metadata": {},
   "outputs": [],
   "source": []
  }
 ],
 "metadata": {
  "kernelspec": {
   "display_name": "Python 3",
   "language": "python",
   "name": "python3"
  },
  "language_info": {
   "codemirror_mode": {
    "name": "ipython",
    "version": 3
   },
   "file_extension": ".py",
   "mimetype": "text/x-python",
   "name": "python",
   "nbconvert_exporter": "python",
   "pygments_lexer": "ipython3",
   "version": "3.7.0"
  }
 },
 "nbformat": 4,
 "nbformat_minor": 2
}
